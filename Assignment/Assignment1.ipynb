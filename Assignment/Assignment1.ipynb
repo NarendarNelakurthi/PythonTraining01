{
 "cells": [
  {
   "cell_type": "code",
   "execution_count": null,
   "metadata": {},
   "outputs": [],
   "source": [
    "#!/usr/bin/python3\n",
    "\"\"\"\n",
    "Purpose: Saving Bank\n",
    "\n",
    "    Initial Balance 0\n",
    "\n",
    "Algorithm\n",
    "----------\n",
    "Step 1: Create an variable 'balance' with initial value 0\n",
    "Step 2: Initial Despoit of min balance 1500\n",
    "Step 3: Salary credited of 3300\n",
    "Step 4: Online Purchase of 33.33\n",
    "Step 5: House Rent paid of 1500\n",
    "Step 6: Display Balance\n",
    "\"\"\""
   ]
  },
  {
   "cell_type": "code",
   "execution_count": 1,
   "metadata": {},
   "outputs": [],
   "source": [
    "#Create an variable 'balance' with initial value 0\n",
    "Balance=0\n"
   ]
  },
  {
   "cell_type": "code",
   "execution_count": 5,
   "metadata": {},
   "outputs": [],
   "source": [
    "#Step 2: Initial Despoit of min balance 1500\n",
    "initial_deposit = 1500\n",
    "Balance += initial_deposit"
   ]
  },
  {
   "cell_type": "code",
   "execution_count": 7,
   "metadata": {},
   "outputs": [
    {
     "data": {
      "text/plain": [
       "1500"
      ]
     },
     "execution_count": 7,
     "metadata": {},
     "output_type": "execute_result"
    }
   ],
   "source": [
    "Balance"
   ]
  },
  {
   "cell_type": "code",
   "execution_count": 8,
   "metadata": {},
   "outputs": [],
   "source": [
    "#Step 3: Salary credited of 3300\n",
    "salary_credited = 3300\n",
    "Balance += salary_credited"
   ]
  },
  {
   "cell_type": "code",
   "execution_count": 9,
   "metadata": {},
   "outputs": [],
   "source": [
    "#Step 4: Online Purchase of 33.33\n",
    "online_purchase = 33.33\n",
    "Balance -= online_purchase"
   ]
  },
  {
   "cell_type": "code",
   "execution_count": 10,
   "metadata": {},
   "outputs": [],
   "source": [
    "#Step 5: House Rent paid of 1500\n",
    "house_rent = 1500\n",
    "Balance -=house_rent"
   ]
  },
  {
   "cell_type": "code",
   "execution_count": 12,
   "metadata": {},
   "outputs": [
    {
     "name": "stdout",
     "output_type": "stream",
     "text": [
      "The Total Balance in the Bank = 3267\n"
     ]
    }
   ],
   "source": [
    "#Step 6: Display Balance\n",
    "print(f'The Total Balance in the Bank = {round(Balance)}')"
   ]
  }
 ],
 "metadata": {
  "kernelspec": {
   "display_name": "Python 3",
   "language": "python",
   "name": "python3"
  },
  "language_info": {
   "codemirror_mode": {
    "name": "ipython",
    "version": 3
   },
   "file_extension": ".py",
   "mimetype": "text/x-python",
   "name": "python",
   "nbconvert_exporter": "python",
   "pygments_lexer": "ipython3",
   "version": "3.10.13"
  }
 },
 "nbformat": 4,
 "nbformat_minor": 2
}
